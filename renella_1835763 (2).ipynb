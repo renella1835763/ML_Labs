{
  "nbformat": 4,
  "nbformat_minor": 0,
  "metadata": {
    "colab": {
      "provenance": [],
      "toc_visible": true,
      "gpuType": "T4"
    },
    "kernelspec": {
      "name": "python3",
      "display_name": "Python 3"
    },
    "language_info": {
      "name": "python"
    },
    "accelerator": "GPU"
  },
  "cells": [
    {
      "cell_type": "markdown",
      "source": [
        "**Challenge: Implement a Multiclass Classification Neural Network using PyTorch**\n",
        "\n",
        "Objective:\n",
        "Build a neural network using PyTorch to predict handwritten digits of MNIST.\n",
        "\n",
        "Steps:\n",
        "\n",
        "1. **Data Preparation**: Load the MNIST dataset using ```torchvision.datasets.MNIST```. Standardize/normalize the features. Split the dataset into training and testing sets using, for example, ```sklearn.model_selection.train_test_split()```. **Bonus scores**: *use PyTorch's built-* ```DataLoader``` *to split the dataset*.\n",
        "\n",
        "2. **Neural Network Architecture**: Define a simple feedforward neural network using PyTorch's ```nn.Module```. Design the input layer to match the number of features in the MNIST dataset and the output layer to have as many neurons as there are classes (10). You can experiment with the number of hidden layers and neurons to optimize the performance. **Bonus scores**: *Make your architecture flexibile to have as many hidden layers as the user wants, and use hyperparameter optimization to select the best number of hidden layeres.*\n",
        "\n",
        "3. **Loss Function and Optimizer**: Choose an appropriate loss function for multiclass classification. Select an optimizer, like SGD (Stochastic Gradient Descent) or Adam.\n",
        "\n",
        "4. **Training**: Write a training loop to iterate over the dataset.\n",
        "Forward pass the input through the network, calculate the loss, and perform backpropagation. Update the weights of the network using the chosen optimizer.\n",
        "\n",
        "5. **Testing**: Evaluate the trained model on the test set. Calculate the accuracy of the model.\n",
        "\n",
        "6. **Optimization**: Experiment with hyperparameters (learning rate, number of epochs, etc.) to optimize the model's performance. Consider adjusting the neural network architecture for better results. **Notice that you can't use the optimization algorithms from scikit-learn that we saw in lab1: e.g.,** ```GridSearchCV```.\n"
      ],
      "metadata": {
        "id": "E5AYt3Cn35zA"
      }
    },
    {
      "cell_type": "markdown",
      "source": [
        "# **FIRST POINT**"
      ],
      "metadata": {
        "id": "p-2m0T53qQWL"
      }
    },
    {
      "cell_type": "code",
      "execution_count": null,
      "metadata": {
        "id": "5XLynrxJ33v6"
      },
      "outputs": [],
      "source": [
        "import torch.nn as nn\n",
        "import torch.optim as optim\n",
        "import torchvision\n",
        "import numpy as np\n",
        "import torch\n",
        "from torch.utils.data import DataLoader\n",
        "from torchvision import transforms"
      ]
    },
    {
      "cell_type": "code",
      "source": [
        "change = transforms.Compose([transforms.ToTensor(), transforms.Normalize((0.5,), (0.8,))])"
      ],
      "metadata": {
        "id": "s3lNeMNRp5y6"
      },
      "execution_count": null,
      "outputs": []
    },
    {
      "cell_type": "code",
      "source": [
        "train_set = torchvision.datasets.MNIST(root='./data', train=True, download= True, transform=change)\n",
        "test_set = torchvision.datasets.MNIST(root='./data', train=False, download= True, transform=change)"
      ],
      "metadata": {
        "colab": {
          "base_uri": "https://localhost:8080/"
        },
        "id": "8W5q3nT1p724",
        "outputId": "874832b5-941b-4003-9628-35e581b58e24"
      },
      "execution_count": null,
      "outputs": [
        {
          "output_type": "stream",
          "name": "stdout",
          "text": [
            "Downloading http://yann.lecun.com/exdb/mnist/train-images-idx3-ubyte.gz\n",
            "Downloading http://yann.lecun.com/exdb/mnist/train-images-idx3-ubyte.gz to ./data/MNIST/raw/train-images-idx3-ubyte.gz\n"
          ]
        },
        {
          "output_type": "stream",
          "name": "stderr",
          "text": [
            "100%|██████████| 9912422/9912422 [00:00<00:00, 117473387.03it/s]\n"
          ]
        },
        {
          "output_type": "stream",
          "name": "stdout",
          "text": [
            "Extracting ./data/MNIST/raw/train-images-idx3-ubyte.gz to ./data/MNIST/raw\n",
            "\n",
            "Downloading http://yann.lecun.com/exdb/mnist/train-labels-idx1-ubyte.gz\n",
            "Downloading http://yann.lecun.com/exdb/mnist/train-labels-idx1-ubyte.gz to ./data/MNIST/raw/train-labels-idx1-ubyte.gz\n"
          ]
        },
        {
          "output_type": "stream",
          "name": "stderr",
          "text": [
            "100%|██████████| 28881/28881 [00:00<00:00, 45437244.50it/s]\n"
          ]
        },
        {
          "output_type": "stream",
          "name": "stdout",
          "text": [
            "Extracting ./data/MNIST/raw/train-labels-idx1-ubyte.gz to ./data/MNIST/raw\n",
            "\n",
            "Downloading http://yann.lecun.com/exdb/mnist/t10k-images-idx3-ubyte.gz\n",
            "Downloading http://yann.lecun.com/exdb/mnist/t10k-images-idx3-ubyte.gz to ./data/MNIST/raw/t10k-images-idx3-ubyte.gz\n"
          ]
        },
        {
          "output_type": "stream",
          "name": "stderr",
          "text": [
            "100%|██████████| 1648877/1648877 [00:00<00:00, 27006128.40it/s]\n"
          ]
        },
        {
          "output_type": "stream",
          "name": "stdout",
          "text": [
            "Extracting ./data/MNIST/raw/t10k-images-idx3-ubyte.gz to ./data/MNIST/raw\n",
            "\n",
            "Downloading http://yann.lecun.com/exdb/mnist/t10k-labels-idx1-ubyte.gz\n",
            "Downloading http://yann.lecun.com/exdb/mnist/t10k-labels-idx1-ubyte.gz to ./data/MNIST/raw/t10k-labels-idx1-ubyte.gz\n"
          ]
        },
        {
          "output_type": "stream",
          "name": "stderr",
          "text": [
            "100%|██████████| 4542/4542 [00:00<00:00, 20550732.22it/s]"
          ]
        },
        {
          "output_type": "stream",
          "name": "stdout",
          "text": [
            "Extracting ./data/MNIST/raw/t10k-labels-idx1-ubyte.gz to ./data/MNIST/raw\n",
            "\n"
          ]
        },
        {
          "output_type": "stream",
          "name": "stderr",
          "text": [
            "\n"
          ]
        }
      ]
    },
    {
      "cell_type": "code",
      "source": [
        "print(f'train {train_set}')\n",
        "print(f'test {test_set}')"
      ],
      "metadata": {
        "colab": {
          "base_uri": "https://localhost:8080/"
        },
        "id": "NMVuSJXcp9ik",
        "outputId": "0b2d2814-89bd-46d5-a09e-dd7596f2cd7c"
      },
      "execution_count": null,
      "outputs": [
        {
          "output_type": "stream",
          "name": "stdout",
          "text": [
            "train Dataset MNIST\n",
            "    Number of datapoints: 60000\n",
            "    Root location: ./data\n",
            "    Split: Train\n",
            "    StandardTransform\n",
            "Transform: Compose(\n",
            "               ToTensor()\n",
            "               Normalize(mean=(0.5,), std=(0.8,))\n",
            "           )\n",
            "test Dataset MNIST\n",
            "    Number of datapoints: 10000\n",
            "    Root location: ./data\n",
            "    Split: Test\n",
            "    StandardTransform\n",
            "Transform: Compose(\n",
            "               ToTensor()\n",
            "               Normalize(mean=(0.5,), std=(0.8,))\n",
            "           )\n"
          ]
        }
      ]
    },
    {
      "cell_type": "code",
      "source": [
        "batch_size = 32"
      ],
      "metadata": {
        "id": "Xif2S1_ip_Z5"
      },
      "execution_count": null,
      "outputs": []
    },
    {
      "cell_type": "code",
      "source": [
        "custom_trainloader = DataLoader(train_set, batch_size=batch_size, shuffle=True)\n",
        "custom_testloader = DataLoader(test_set, batch_size=batch_size, shuffle=True)"
      ],
      "metadata": {
        "id": "9sAIrxDvqEhu"
      },
      "execution_count": null,
      "outputs": []
    },
    {
      "cell_type": "markdown",
      "source": [
        "# **SECOND POINT**"
      ],
      "metadata": {
        "id": "vvNTcfzhqVVV"
      }
    },
    {
      "cell_type": "code",
      "source": [
        "class MNISTConvNet(nn.Module):\n",
        "\n",
        "    def __init__(self, hidden_layers):\n",
        "        super().__init__()\n",
        "        #First layer\n",
        "        self.flatten1 = nn.Flatten()\n",
        "        self.fc_layer1 = nn.Linear(784, 300)\n",
        "        self.activation1 = nn.Sigmoid()\n",
        "        #Hidden layer\n",
        "        self.hidden_layers = nn.ModuleList([nn.Linear(300, 300) for _ in range(hidden_layers)])\n",
        "        self.activation2 = nn.Sigmoid()\n",
        "        # Last layer\n",
        "        self.flatten2 = nn.Flatten()\n",
        "        self.fc_layer2 = nn.Linear(300, 100)\n",
        "        self.activation3 = nn.Sigmoid()\n",
        "        self.fc_layer3 = nn.Linear(100, 10)\n",
        "\n",
        "    def forward(self, x):\n",
        "        # First Layer\n",
        "        x = self.flatten1(x)\n",
        "        x = self.fc_layer1(x)\n",
        "        x = self.activation1(x)\n",
        "\n",
        "        for i, layer in enumerate(self.hidden_layers):\n",
        "            x = self.hidden_layers[i // 2](x) + layer(x)\n",
        "\n",
        "        x = self.activation2(x)\n",
        "        x = self.flatten2(x)\n",
        "        x = self.fc_layer2(x)\n",
        "        x = self.activation3(x)\n",
        "        x = self.fc_layer3(x)\n",
        "\n",
        "        return x"
      ],
      "metadata": {
        "id": "4qEI3ulHwTzf"
      },
      "execution_count": null,
      "outputs": []
    },
    {
      "cell_type": "code",
      "source": [
        "hidden_layers = 5"
      ],
      "metadata": {
        "id": "2OZl0AF2xQjP"
      },
      "execution_count": null,
      "outputs": []
    },
    {
      "cell_type": "code",
      "source": [
        "model = MNISTConvNet(hidden_layers)\n",
        "model"
      ],
      "metadata": {
        "colab": {
          "base_uri": "https://localhost:8080/"
        },
        "id": "ImAnevXhxKNu",
        "outputId": "17f04bec-4ca7-43a8-bbd1-bb85c06a81e3"
      },
      "execution_count": null,
      "outputs": [
        {
          "output_type": "execute_result",
          "data": {
            "text/plain": [
              "MNISTConvNet(\n",
              "  (flatten1): Flatten(start_dim=1, end_dim=-1)\n",
              "  (fc_layer1): Linear(in_features=784, out_features=300, bias=True)\n",
              "  (activation1): Sigmoid()\n",
              "  (hidden_layers): ModuleList(\n",
              "    (0-4): 5 x Linear(in_features=300, out_features=300, bias=True)\n",
              "  )\n",
              "  (activation2): Sigmoid()\n",
              "  (flatten2): Flatten(start_dim=1, end_dim=-1)\n",
              "  (fc_layer2): Linear(in_features=300, out_features=100, bias=True)\n",
              "  (activation3): Sigmoid()\n",
              "  (fc_layer3): Linear(in_features=100, out_features=10, bias=True)\n",
              ")"
            ]
          },
          "metadata": {},
          "execution_count": 21
        }
      ]
    },
    {
      "cell_type": "code",
      "source": [
        "class MNISTConvNet(nn.Module):\n",
        "    def __init__(self, hidden_layers):\n",
        "        super().__init__()\n",
        "\n",
        "        self.first = nn.Sequential(\n",
        "            nn.Flatten(),\n",
        "            nn.Linear(784, 300),\n",
        "            nn.Sigmoid()\n",
        "        )\n",
        "\n",
        "        self.list_modules = []\n",
        "        for _ in range(hidden_layers):\n",
        "            self.list_modules.append(nn.Sequential(\n",
        "                nn.Linear(300, 300),\n",
        "                nn.Sigmoid()\n",
        "            ))\n",
        "\n",
        "        self.last = nn.Sequential(\n",
        "            nn.Flatten(),\n",
        "            nn.Linear(300, 100),\n",
        "            nn.Sigmoid(),\n",
        "            nn.Linear(100, 10)\n",
        "        )\n",
        "\n",
        "    def forward(self, x):\n",
        "        x = self.first(x)\n",
        "        for i in range(len(self.list_modules)):\n",
        "            x = self.list_modules[i](x)\n",
        "        x = self.last(x)\n",
        "\n",
        "        return x"
      ],
      "metadata": {
        "id": "FQAvmDjBwjEp"
      },
      "execution_count": null,
      "outputs": []
    },
    {
      "cell_type": "code",
      "source": [
        "model = MNISTConvNet(hidden_layers)\n",
        "model"
      ],
      "metadata": {
        "colab": {
          "base_uri": "https://localhost:8080/"
        },
        "id": "hGmV-K4Ebb9k",
        "outputId": "56f31cb2-2032-4638-fdd7-c3c3aee2d8fb"
      },
      "execution_count": null,
      "outputs": [
        {
          "output_type": "execute_result",
          "data": {
            "text/plain": [
              "MNISTConvNet(\n",
              "  (first): Sequential(\n",
              "    (0): Flatten(start_dim=1, end_dim=-1)\n",
              "    (1): Linear(in_features=784, out_features=300, bias=True)\n",
              "    (2): Sigmoid()\n",
              "  )\n",
              "  (last): Sequential(\n",
              "    (0): Flatten(start_dim=1, end_dim=-1)\n",
              "    (1): Linear(in_features=300, out_features=100, bias=True)\n",
              "    (2): Sigmoid()\n",
              "    (3): Linear(in_features=100, out_features=10, bias=True)\n",
              "  )\n",
              ")"
            ]
          },
          "metadata": {},
          "execution_count": 23
        }
      ]
    },
    {
      "cell_type": "markdown",
      "source": [
        "# **THIRD POINT**"
      ],
      "metadata": {
        "id": "Z6BdPbdWlPNl"
      }
    },
    {
      "cell_type": "code",
      "source": [
        "criterion = nn.CrossEntropyLoss()\n",
        "optimizer = optim.SGD(model.parameters(), lr=0.001, momentum=0.9)"
      ],
      "metadata": {
        "id": "vL4QbWOAq_R_"
      },
      "execution_count": null,
      "outputs": []
    },
    {
      "cell_type": "markdown",
      "source": [
        "# **FOUTH and FIFTH POINT**"
      ],
      "metadata": {
        "id": "gw4MQcH9r5fG"
      }
    },
    {
      "cell_type": "code",
      "source": [
        "n_epochs = 10"
      ],
      "metadata": {
        "id": "R2w0oOPWsQPb"
      },
      "execution_count": null,
      "outputs": []
    },
    {
      "cell_type": "code",
      "source": [
        "for current_epoch in range(n_epochs):\n",
        "    epoch_losses = []\n",
        "\n",
        "\n",
        "    for batch_inputs, batch_labels in custom_trainloader:   #Training\n",
        "        predictions = model(batch_inputs)\n",
        "        current_loss = criterion(predictions, batch_labels)\n",
        "\n",
        "        epoch_losses.append(current_loss.item())\n",
        "\n",
        "        optimizer.zero_grad()\n",
        "        current_loss.backward()\n",
        "        optimizer.step()\n",
        "\n",
        "    print(f'Epoch {current_epoch + 1} --> loss = {np.mean(epoch_losses)}')\n",
        "\n",
        "    correct_predictions = 0\n",
        "    total_samples = 0\n",
        "    for test_inputs, test_labels in custom_testloader:\n",
        "        test_predictions = model(test_inputs)\n",
        "\n",
        "\n",
        "        correct_predictions += (torch.argmax(test_predictions, 1).long() == test_labels).sum().item()\n",
        "        total_samples += len(test_labels)\n",
        "\n",
        "    if total_samples != 0:\n",
        "        accuracy = correct_predictions / total_samples\n",
        "        print(f'Epoch {current_epoch + 1} --> accuracy = {accuracy * 100:.2f}%')\n",
        "    else:\n",
        "        print(f'Epoch {current_epoch + 1} --> accuracy not available (total_samples is zero)')\n"
      ],
      "metadata": {
        "colab": {
          "base_uri": "https://localhost:8080/"
        },
        "id": "F8RgBJbQr9Hu",
        "outputId": "7c92236c-3410-49f9-ba3f-bfc7e1d30ffe"
      },
      "execution_count": null,
      "outputs": [
        {
          "output_type": "stream",
          "name": "stdout",
          "text": [
            "Epoch 1 --> loss = 2.3027390914916994\n",
            "Epoch 1 --> accuracy = 11.35%\n",
            "Epoch 2 --> loss = 2.302634429295858\n",
            "Epoch 2 --> accuracy = 11.35%\n",
            "Epoch 3 --> loss = 2.302769232304891\n",
            "Epoch 3 --> accuracy = 11.35%\n",
            "Epoch 4 --> loss = 2.3025958488464355\n",
            "Epoch 4 --> accuracy = 11.35%\n",
            "Epoch 5 --> loss = 2.302762683232625\n",
            "Epoch 5 --> accuracy = 11.35%\n",
            "Epoch 6 --> loss = 2.302504721577962\n",
            "Epoch 6 --> accuracy = 11.35%\n",
            "Epoch 7 --> loss = 2.3025542709350586\n",
            "Epoch 7 --> accuracy = 10.10%\n",
            "Epoch 8 --> loss = 2.3023181499481202\n",
            "Epoch 8 --> accuracy = 11.35%\n",
            "Epoch 9 --> loss = 2.3024417259216308\n",
            "Epoch 9 --> accuracy = 11.35%\n",
            "Epoch 10 --> loss = 2.3023575803120933\n",
            "Epoch 10 --> accuracy = 10.28%\n"
          ]
        }
      ]
    },
    {
      "cell_type": "markdown",
      "source": [
        "# **SIXTH POINT**"
      ],
      "metadata": {
        "id": "DV4o7cusr7u9"
      }
    },
    {
      "cell_type": "code",
      "source": [
        "!pip install optuna\n",
        "import optuna"
      ],
      "metadata": {
        "colab": {
          "base_uri": "https://localhost:8080/"
        },
        "id": "DIgMKmLvwvRT",
        "outputId": "824e801c-376b-4d1d-b8af-cd95a2891afa"
      },
      "execution_count": null,
      "outputs": [
        {
          "output_type": "stream",
          "name": "stdout",
          "text": [
            "Collecting optuna\n",
            "  Downloading optuna-3.5.0-py3-none-any.whl (413 kB)\n",
            "\u001b[2K     \u001b[90m━━━━━━━━━━━━━━━━━━━━━━━━━━━━━━━━━━━━━━━━\u001b[0m \u001b[32m413.4/413.4 kB\u001b[0m \u001b[31m2.6 MB/s\u001b[0m eta \u001b[36m0:00:00\u001b[0m\n",
            "\u001b[?25hCollecting alembic>=1.5.0 (from optuna)\n",
            "  Downloading alembic-1.13.1-py3-none-any.whl (233 kB)\n",
            "\u001b[2K     \u001b[90m━━━━━━━━━━━━━━━━━━━━━━━━━━━━━━━━━━━━━━━━\u001b[0m \u001b[32m233.4/233.4 kB\u001b[0m \u001b[31m17.2 MB/s\u001b[0m eta \u001b[36m0:00:00\u001b[0m\n",
            "\u001b[?25hCollecting colorlog (from optuna)\n",
            "  Downloading colorlog-6.8.0-py3-none-any.whl (11 kB)\n",
            "Requirement already satisfied: numpy in /usr/local/lib/python3.10/dist-packages (from optuna) (1.23.5)\n",
            "Requirement already satisfied: packaging>=20.0 in /usr/local/lib/python3.10/dist-packages (from optuna) (23.2)\n",
            "Requirement already satisfied: sqlalchemy>=1.3.0 in /usr/local/lib/python3.10/dist-packages (from optuna) (2.0.23)\n",
            "Requirement already satisfied: tqdm in /usr/local/lib/python3.10/dist-packages (from optuna) (4.66.1)\n",
            "Requirement already satisfied: PyYAML in /usr/local/lib/python3.10/dist-packages (from optuna) (6.0.1)\n",
            "Collecting Mako (from alembic>=1.5.0->optuna)\n",
            "  Downloading Mako-1.3.0-py3-none-any.whl (78 kB)\n",
            "\u001b[2K     \u001b[90m━━━━━━━━━━━━━━━━━━━━━━━━━━━━━━━━━━━━━━━━\u001b[0m \u001b[32m78.6/78.6 kB\u001b[0m \u001b[31m10.5 MB/s\u001b[0m eta \u001b[36m0:00:00\u001b[0m\n",
            "\u001b[?25hRequirement already satisfied: typing-extensions>=4 in /usr/local/lib/python3.10/dist-packages (from alembic>=1.5.0->optuna) (4.5.0)\n",
            "Requirement already satisfied: greenlet!=0.4.17 in /usr/local/lib/python3.10/dist-packages (from sqlalchemy>=1.3.0->optuna) (3.0.2)\n",
            "Requirement already satisfied: MarkupSafe>=0.9.2 in /usr/local/lib/python3.10/dist-packages (from Mako->alembic>=1.5.0->optuna) (2.1.3)\n",
            "Installing collected packages: Mako, colorlog, alembic, optuna\n",
            "Successfully installed Mako-1.3.0 alembic-1.13.1 colorlog-6.8.0 optuna-3.5.0\n"
          ]
        }
      ]
    },
    {
      "cell_type": "code",
      "source": [
        "def custom_objective(trial):\n",
        "\n",
        "    num_hidden_layers = trial.suggest_int('num_hidden_layers', 5, 8)\n",
        "    num_epochs = trial.suggest_int('num_epochs', 10, 15)\n",
        "\n",
        "    custom_model = MNISTConvNet(num_hidden_layers)\n",
        "    custom_optimizer = optim.SGD(custom_model.parameters(), lr=0.001, momentum=0.9)\n",
        "\n",
        "    for current_epoch in range(num_epochs):\n",
        "\n",
        "        total_losses = 0\n",
        "\n",
        "        for custom_input, custom_label in custom_trainloader:  # Assuming custom_trainloader is your training data loader\n",
        "            custom_y_pred = custom_model(custom_input)\n",
        "\n",
        "            custom_loss = criterion(custom_y_pred, custom_label)\n",
        "\n",
        "            total_losses += custom_loss.item()\n",
        "\n",
        "            custom_optimizer.zero_grad()\n",
        "            custom_loss.backward()\n",
        "            custom_optimizer.step()\n",
        "\n",
        "        result = total_losses / len(custom_trainloader)\n",
        "\n",
        "    return result\n"
      ],
      "metadata": {
        "id": "WkcMwNBLw27O"
      },
      "execution_count": null,
      "outputs": []
    },
    {
      "cell_type": "code",
      "source": [
        "custom_study = optuna.create_study()\n",
        "custom_study.optimize(custom_objective, n_trials=5, n_jobs=-1)\n",
        "\n"
      ],
      "metadata": {
        "colab": {
          "base_uri": "https://localhost:8080/"
        },
        "id": "kJIpwaYHjGxB",
        "outputId": "b7d3cf0b-1be8-4f38-fb47-3042d46edf72"
      },
      "execution_count": null,
      "outputs": [
        {
          "output_type": "stream",
          "name": "stderr",
          "text": [
            "[I 2023-12-21 21:07:27,996] A new study created in memory with name: no-name-2f1ff1b9-54f5-45a5-8eb9-fe247d5bb2a9\n",
            "[I 2023-12-21 21:18:18,842] Trial 1 finished with value: 2.3028564802805582 and parameters: {'num_hidden_layers': 8, 'num_epochs': 12}. Best is trial 1 with value: 2.3028564802805582.\n",
            "[I 2023-12-21 21:20:27,009] Trial 0 finished with value: 2.3026950992584228 and parameters: {'num_hidden_layers': 7, 'num_epochs': 15}. Best is trial 0 with value: 2.3026950992584228.\n",
            "[I 2023-12-21 21:30:18,595] Trial 2 finished with value: 2.302688578923543 and parameters: {'num_hidden_layers': 8, 'num_epochs': 13}. Best is trial 2 with value: 2.302688578923543.\n",
            "[I 2023-12-21 21:33:22,155] Trial 3 finished with value: 2.302760189565023 and parameters: {'num_hidden_layers': 8, 'num_epochs': 14}. Best is trial 2 with value: 2.302688578923543.\n",
            "[I 2023-12-21 21:36:08,390] Trial 4 finished with value: 2.302731950759888 and parameters: {'num_hidden_layers': 6, 'num_epochs': 12}. Best is trial 2 with value: 2.302688578923543.\n"
          ]
        }
      ]
    },
    {
      "cell_type": "code",
      "source": [
        "print(custom_study.best_params)"
      ],
      "metadata": {
        "id": "DKKTPhDnjJjl",
        "colab": {
          "base_uri": "https://localhost:8080/"
        },
        "outputId": "1457b8c3-cc40-4026-8e60-439205559ea8"
      },
      "execution_count": null,
      "outputs": [
        {
          "output_type": "stream",
          "name": "stdout",
          "text": [
            "{'num_hidden_layers': 8, 'num_epochs': 13}\n"
          ]
        }
      ]
    },
    {
      "cell_type": "code",
      "source": [
        "from optuna.visualization import plot_parallel_coordinate\n",
        "\n",
        "plot_parallel_coordinate(custom_study)"
      ],
      "metadata": {
        "id": "9NvDBXNEihOl",
        "colab": {
          "base_uri": "https://localhost:8080/",
          "height": 542
        },
        "outputId": "ad6a8131-07ea-4dbc-bb4f-cfb8735ccbed"
      },
      "execution_count": null,
      "outputs": [
        {
          "output_type": "display_data",
          "data": {
            "text/html": [
              "<html>\n",
              "<head><meta charset=\"utf-8\" /></head>\n",
              "<body>\n",
              "    <div>            <script src=\"https://cdnjs.cloudflare.com/ajax/libs/mathjax/2.7.5/MathJax.js?config=TeX-AMS-MML_SVG\"></script><script type=\"text/javascript\">if (window.MathJax && window.MathJax.Hub && window.MathJax.Hub.Config) {window.MathJax.Hub.Config({SVG: {font: \"STIX-Web\"}});}</script>                <script type=\"text/javascript\">window.PlotlyConfig = {MathJaxConfig: 'local'};</script>\n",
              "        <script charset=\"utf-8\" src=\"https://cdn.plot.ly/plotly-2.24.1.min.js\"></script>                <div id=\"45f89650-16c2-43c7-816d-e170ef4dbc6b\" class=\"plotly-graph-div\" style=\"height:525px; width:100%;\"></div>            <script type=\"text/javascript\">                                    window.PLOTLYENV=window.PLOTLYENV || {};                                    if (document.getElementById(\"45f89650-16c2-43c7-816d-e170ef4dbc6b\")) {                    Plotly.newPlot(                        \"45f89650-16c2-43c7-816d-e170ef4dbc6b\",                        [{\"dimensions\":[{\"label\":\"Objective Value\",\"range\":[2.302688578923543,2.3028564802805582],\"values\":[2.3026950992584228,2.3028564802805582,2.302688578923543,2.302760189565023,2.302731950759888]},{\"label\":\"num_epochs\",\"range\":[12,15],\"values\":[15,12,13,14,12]},{\"label\":\"num_hidden_layers\",\"range\":[6,8],\"values\":[7,8,8,8,6]}],\"labelangle\":30,\"labelside\":\"bottom\",\"line\":{\"color\":[2.3026950992584228,2.3028564802805582,2.302688578923543,2.302760189565023,2.302731950759888],\"colorbar\":{\"title\":{\"text\":\"Objective Value\"}},\"colorscale\":[[0.0,\"rgb(247,251,255)\"],[0.125,\"rgb(222,235,247)\"],[0.25,\"rgb(198,219,239)\"],[0.375,\"rgb(158,202,225)\"],[0.5,\"rgb(107,174,214)\"],[0.625,\"rgb(66,146,198)\"],[0.75,\"rgb(33,113,181)\"],[0.875,\"rgb(8,81,156)\"],[1.0,\"rgb(8,48,107)\"]],\"reversescale\":true,\"showscale\":true},\"type\":\"parcoords\"}],                        {\"title\":{\"text\":\"Parallel Coordinate Plot\"},\"template\":{\"data\":{\"histogram2dcontour\":[{\"type\":\"histogram2dcontour\",\"colorbar\":{\"outlinewidth\":0,\"ticks\":\"\"},\"colorscale\":[[0.0,\"#0d0887\"],[0.1111111111111111,\"#46039f\"],[0.2222222222222222,\"#7201a8\"],[0.3333333333333333,\"#9c179e\"],[0.4444444444444444,\"#bd3786\"],[0.5555555555555556,\"#d8576b\"],[0.6666666666666666,\"#ed7953\"],[0.7777777777777778,\"#fb9f3a\"],[0.8888888888888888,\"#fdca26\"],[1.0,\"#f0f921\"]]}],\"choropleth\":[{\"type\":\"choropleth\",\"colorbar\":{\"outlinewidth\":0,\"ticks\":\"\"}}],\"histogram2d\":[{\"type\":\"histogram2d\",\"colorbar\":{\"outlinewidth\":0,\"ticks\":\"\"},\"colorscale\":[[0.0,\"#0d0887\"],[0.1111111111111111,\"#46039f\"],[0.2222222222222222,\"#7201a8\"],[0.3333333333333333,\"#9c179e\"],[0.4444444444444444,\"#bd3786\"],[0.5555555555555556,\"#d8576b\"],[0.6666666666666666,\"#ed7953\"],[0.7777777777777778,\"#fb9f3a\"],[0.8888888888888888,\"#fdca26\"],[1.0,\"#f0f921\"]]}],\"heatmap\":[{\"type\":\"heatmap\",\"colorbar\":{\"outlinewidth\":0,\"ticks\":\"\"},\"colorscale\":[[0.0,\"#0d0887\"],[0.1111111111111111,\"#46039f\"],[0.2222222222222222,\"#7201a8\"],[0.3333333333333333,\"#9c179e\"],[0.4444444444444444,\"#bd3786\"],[0.5555555555555556,\"#d8576b\"],[0.6666666666666666,\"#ed7953\"],[0.7777777777777778,\"#fb9f3a\"],[0.8888888888888888,\"#fdca26\"],[1.0,\"#f0f921\"]]}],\"heatmapgl\":[{\"type\":\"heatmapgl\",\"colorbar\":{\"outlinewidth\":0,\"ticks\":\"\"},\"colorscale\":[[0.0,\"#0d0887\"],[0.1111111111111111,\"#46039f\"],[0.2222222222222222,\"#7201a8\"],[0.3333333333333333,\"#9c179e\"],[0.4444444444444444,\"#bd3786\"],[0.5555555555555556,\"#d8576b\"],[0.6666666666666666,\"#ed7953\"],[0.7777777777777778,\"#fb9f3a\"],[0.8888888888888888,\"#fdca26\"],[1.0,\"#f0f921\"]]}],\"contourcarpet\":[{\"type\":\"contourcarpet\",\"colorbar\":{\"outlinewidth\":0,\"ticks\":\"\"}}],\"contour\":[{\"type\":\"contour\",\"colorbar\":{\"outlinewidth\":0,\"ticks\":\"\"},\"colorscale\":[[0.0,\"#0d0887\"],[0.1111111111111111,\"#46039f\"],[0.2222222222222222,\"#7201a8\"],[0.3333333333333333,\"#9c179e\"],[0.4444444444444444,\"#bd3786\"],[0.5555555555555556,\"#d8576b\"],[0.6666666666666666,\"#ed7953\"],[0.7777777777777778,\"#fb9f3a\"],[0.8888888888888888,\"#fdca26\"],[1.0,\"#f0f921\"]]}],\"surface\":[{\"type\":\"surface\",\"colorbar\":{\"outlinewidth\":0,\"ticks\":\"\"},\"colorscale\":[[0.0,\"#0d0887\"],[0.1111111111111111,\"#46039f\"],[0.2222222222222222,\"#7201a8\"],[0.3333333333333333,\"#9c179e\"],[0.4444444444444444,\"#bd3786\"],[0.5555555555555556,\"#d8576b\"],[0.6666666666666666,\"#ed7953\"],[0.7777777777777778,\"#fb9f3a\"],[0.8888888888888888,\"#fdca26\"],[1.0,\"#f0f921\"]]}],\"mesh3d\":[{\"type\":\"mesh3d\",\"colorbar\":{\"outlinewidth\":0,\"ticks\":\"\"}}],\"scatter\":[{\"fillpattern\":{\"fillmode\":\"overlay\",\"size\":10,\"solidity\":0.2},\"type\":\"scatter\"}],\"parcoords\":[{\"type\":\"parcoords\",\"line\":{\"colorbar\":{\"outlinewidth\":0,\"ticks\":\"\"}}}],\"scatterpolargl\":[{\"type\":\"scatterpolargl\",\"marker\":{\"colorbar\":{\"outlinewidth\":0,\"ticks\":\"\"}}}],\"bar\":[{\"error_x\":{\"color\":\"#2a3f5f\"},\"error_y\":{\"color\":\"#2a3f5f\"},\"marker\":{\"line\":{\"color\":\"#E5ECF6\",\"width\":0.5},\"pattern\":{\"fillmode\":\"overlay\",\"size\":10,\"solidity\":0.2}},\"type\":\"bar\"}],\"scattergeo\":[{\"type\":\"scattergeo\",\"marker\":{\"colorbar\":{\"outlinewidth\":0,\"ticks\":\"\"}}}],\"scatterpolar\":[{\"type\":\"scatterpolar\",\"marker\":{\"colorbar\":{\"outlinewidth\":0,\"ticks\":\"\"}}}],\"histogram\":[{\"marker\":{\"pattern\":{\"fillmode\":\"overlay\",\"size\":10,\"solidity\":0.2}},\"type\":\"histogram\"}],\"scattergl\":[{\"type\":\"scattergl\",\"marker\":{\"colorbar\":{\"outlinewidth\":0,\"ticks\":\"\"}}}],\"scatter3d\":[{\"type\":\"scatter3d\",\"line\":{\"colorbar\":{\"outlinewidth\":0,\"ticks\":\"\"}},\"marker\":{\"colorbar\":{\"outlinewidth\":0,\"ticks\":\"\"}}}],\"scattermapbox\":[{\"type\":\"scattermapbox\",\"marker\":{\"colorbar\":{\"outlinewidth\":0,\"ticks\":\"\"}}}],\"scatterternary\":[{\"type\":\"scatterternary\",\"marker\":{\"colorbar\":{\"outlinewidth\":0,\"ticks\":\"\"}}}],\"scattercarpet\":[{\"type\":\"scattercarpet\",\"marker\":{\"colorbar\":{\"outlinewidth\":0,\"ticks\":\"\"}}}],\"carpet\":[{\"aaxis\":{\"endlinecolor\":\"#2a3f5f\",\"gridcolor\":\"white\",\"linecolor\":\"white\",\"minorgridcolor\":\"white\",\"startlinecolor\":\"#2a3f5f\"},\"baxis\":{\"endlinecolor\":\"#2a3f5f\",\"gridcolor\":\"white\",\"linecolor\":\"white\",\"minorgridcolor\":\"white\",\"startlinecolor\":\"#2a3f5f\"},\"type\":\"carpet\"}],\"table\":[{\"cells\":{\"fill\":{\"color\":\"#EBF0F8\"},\"line\":{\"color\":\"white\"}},\"header\":{\"fill\":{\"color\":\"#C8D4E3\"},\"line\":{\"color\":\"white\"}},\"type\":\"table\"}],\"barpolar\":[{\"marker\":{\"line\":{\"color\":\"#E5ECF6\",\"width\":0.5},\"pattern\":{\"fillmode\":\"overlay\",\"size\":10,\"solidity\":0.2}},\"type\":\"barpolar\"}],\"pie\":[{\"automargin\":true,\"type\":\"pie\"}]},\"layout\":{\"autotypenumbers\":\"strict\",\"colorway\":[\"#636efa\",\"#EF553B\",\"#00cc96\",\"#ab63fa\",\"#FFA15A\",\"#19d3f3\",\"#FF6692\",\"#B6E880\",\"#FF97FF\",\"#FECB52\"],\"font\":{\"color\":\"#2a3f5f\"},\"hovermode\":\"closest\",\"hoverlabel\":{\"align\":\"left\"},\"paper_bgcolor\":\"white\",\"plot_bgcolor\":\"#E5ECF6\",\"polar\":{\"bgcolor\":\"#E5ECF6\",\"angularaxis\":{\"gridcolor\":\"white\",\"linecolor\":\"white\",\"ticks\":\"\"},\"radialaxis\":{\"gridcolor\":\"white\",\"linecolor\":\"white\",\"ticks\":\"\"}},\"ternary\":{\"bgcolor\":\"#E5ECF6\",\"aaxis\":{\"gridcolor\":\"white\",\"linecolor\":\"white\",\"ticks\":\"\"},\"baxis\":{\"gridcolor\":\"white\",\"linecolor\":\"white\",\"ticks\":\"\"},\"caxis\":{\"gridcolor\":\"white\",\"linecolor\":\"white\",\"ticks\":\"\"}},\"coloraxis\":{\"colorbar\":{\"outlinewidth\":0,\"ticks\":\"\"}},\"colorscale\":{\"sequential\":[[0.0,\"#0d0887\"],[0.1111111111111111,\"#46039f\"],[0.2222222222222222,\"#7201a8\"],[0.3333333333333333,\"#9c179e\"],[0.4444444444444444,\"#bd3786\"],[0.5555555555555556,\"#d8576b\"],[0.6666666666666666,\"#ed7953\"],[0.7777777777777778,\"#fb9f3a\"],[0.8888888888888888,\"#fdca26\"],[1.0,\"#f0f921\"]],\"sequentialminus\":[[0.0,\"#0d0887\"],[0.1111111111111111,\"#46039f\"],[0.2222222222222222,\"#7201a8\"],[0.3333333333333333,\"#9c179e\"],[0.4444444444444444,\"#bd3786\"],[0.5555555555555556,\"#d8576b\"],[0.6666666666666666,\"#ed7953\"],[0.7777777777777778,\"#fb9f3a\"],[0.8888888888888888,\"#fdca26\"],[1.0,\"#f0f921\"]],\"diverging\":[[0,\"#8e0152\"],[0.1,\"#c51b7d\"],[0.2,\"#de77ae\"],[0.3,\"#f1b6da\"],[0.4,\"#fde0ef\"],[0.5,\"#f7f7f7\"],[0.6,\"#e6f5d0\"],[0.7,\"#b8e186\"],[0.8,\"#7fbc41\"],[0.9,\"#4d9221\"],[1,\"#276419\"]]},\"xaxis\":{\"gridcolor\":\"white\",\"linecolor\":\"white\",\"ticks\":\"\",\"title\":{\"standoff\":15},\"zerolinecolor\":\"white\",\"automargin\":true,\"zerolinewidth\":2},\"yaxis\":{\"gridcolor\":\"white\",\"linecolor\":\"white\",\"ticks\":\"\",\"title\":{\"standoff\":15},\"zerolinecolor\":\"white\",\"automargin\":true,\"zerolinewidth\":2},\"scene\":{\"xaxis\":{\"backgroundcolor\":\"#E5ECF6\",\"gridcolor\":\"white\",\"linecolor\":\"white\",\"showbackground\":true,\"ticks\":\"\",\"zerolinecolor\":\"white\",\"gridwidth\":2},\"yaxis\":{\"backgroundcolor\":\"#E5ECF6\",\"gridcolor\":\"white\",\"linecolor\":\"white\",\"showbackground\":true,\"ticks\":\"\",\"zerolinecolor\":\"white\",\"gridwidth\":2},\"zaxis\":{\"backgroundcolor\":\"#E5ECF6\",\"gridcolor\":\"white\",\"linecolor\":\"white\",\"showbackground\":true,\"ticks\":\"\",\"zerolinecolor\":\"white\",\"gridwidth\":2}},\"shapedefaults\":{\"line\":{\"color\":\"#2a3f5f\"}},\"annotationdefaults\":{\"arrowcolor\":\"#2a3f5f\",\"arrowhead\":0,\"arrowwidth\":1},\"geo\":{\"bgcolor\":\"white\",\"landcolor\":\"#E5ECF6\",\"subunitcolor\":\"white\",\"showland\":true,\"showlakes\":true,\"lakecolor\":\"white\"},\"title\":{\"x\":0.05},\"mapbox\":{\"style\":\"light\"}}}},                        {\"responsive\": true}                    ).then(function(){\n",
              "                            \n",
              "var gd = document.getElementById('45f89650-16c2-43c7-816d-e170ef4dbc6b');\n",
              "var x = new MutationObserver(function (mutations, observer) {{\n",
              "        var display = window.getComputedStyle(gd).display;\n",
              "        if (!display || display === 'none') {{\n",
              "            console.log([gd, 'removed!']);\n",
              "            Plotly.purge(gd);\n",
              "            observer.disconnect();\n",
              "        }}\n",
              "}});\n",
              "\n",
              "// Listen for the removal of the full notebook cells\n",
              "var notebookContainer = gd.closest('#notebook-container');\n",
              "if (notebookContainer) {{\n",
              "    x.observe(notebookContainer, {childList: true});\n",
              "}}\n",
              "\n",
              "// Listen for the clearing of the current output cell\n",
              "var outputEl = gd.closest('.output');\n",
              "if (outputEl) {{\n",
              "    x.observe(outputEl, {childList: true});\n",
              "}}\n",
              "\n",
              "                        })                };                            </script>        </div>\n",
              "</body>\n",
              "</html>"
            ]
          },
          "metadata": {}
        }
      ]
    },
    {
      "cell_type": "markdown",
      "source": [
        "Therefore, the optimal choice is the dark blue option, characterized by num_epochs = 13 and 8 num_hidden_layers."
      ],
      "metadata": {
        "id": "GH242IGRtQxx"
      }
    },
    {
      "cell_type": "code",
      "source": [
        "best_model = MNISTConvNet(8)\n",
        "best_model"
      ],
      "metadata": {
        "id": "BeaiAR_6tQZ_",
        "colab": {
          "base_uri": "https://localhost:8080/"
        },
        "outputId": "0c841945-47b2-4a78-d9ed-d003b4b4bc3b"
      },
      "execution_count": null,
      "outputs": [
        {
          "output_type": "execute_result",
          "data": {
            "text/plain": [
              "MNISTConvNet(\n",
              "  (first): Sequential(\n",
              "    (0): Flatten(start_dim=1, end_dim=-1)\n",
              "    (1): Linear(in_features=784, out_features=300, bias=True)\n",
              "    (2): Sigmoid()\n",
              "  )\n",
              "  (last): Sequential(\n",
              "    (0): Flatten(start_dim=1, end_dim=-1)\n",
              "    (1): Linear(in_features=300, out_features=100, bias=True)\n",
              "    (2): Sigmoid()\n",
              "    (3): Linear(in_features=100, out_features=10, bias=True)\n",
              "  )\n",
              ")"
            ]
          },
          "metadata": {},
          "execution_count": 44
        }
      ]
    },
    {
      "cell_type": "markdown",
      "source": [
        "And train again the model to evaluate with the best params."
      ],
      "metadata": {
        "id": "3l0g-rSdt-mG"
      }
    },
    {
      "cell_type": "code",
      "source": [
        "n_epochs = 13\n",
        "\n",
        "criterion = nn.CrossEntropyLoss()\n",
        "optimizer = optim.SGD(best_model.parameters(), lr=0.001, momentum=0.9) #SGD = Stochastic gradient descent\n",
        "\n",
        "for epoch in range(n_epochs):\n",
        "\n",
        "  losses = []\n",
        "  #training\n",
        "  for inputs, labels in custom_trainloader:\n",
        "\n",
        "    pred = best_model(inputs)\n",
        "    loss = criterion(pred, labels)\n",
        "\n",
        "    losses.append(loss.item())\n",
        "\n",
        "    optimizer.zero_grad()\n",
        "\n",
        "    loss.backward()\n",
        "\n",
        "    optimizer.step()\n",
        "\n",
        "  print(f'Epoch {epoch + 1} --> loss = {np.mean(losses)}')\n",
        "\n",
        "  acc = 0\n",
        "  count = 0\n",
        "  for inputs, labels in custom_testloader:\n",
        "\n",
        "    pred = best_model(inputs)\n",
        "\n",
        "    acc += (torch.argmax(pred,1) == labels).float().sum()\n",
        "    count += len(labels)\n",
        "\n",
        "  acc /= count\n",
        "\n",
        "  print(f'Epoch {epoch + 1} --> model accuracy = {acc * 100}')"
      ],
      "metadata": {
        "id": "cC71n2xhk0g3",
        "colab": {
          "base_uri": "https://localhost:8080/"
        },
        "outputId": "65329824-e1a5-4395-abf8-fd9e5d4486c5"
      },
      "execution_count": null,
      "outputs": [
        {
          "output_type": "stream",
          "name": "stdout",
          "text": [
            "Epoch 1 --> loss = 2.303599220275879\n",
            "Epoch 1 --> model accuracy = 10.100000381469727\n",
            "Epoch 2 --> loss = 2.302980726114909\n",
            "Epoch 2 --> model accuracy = 11.350000381469727\n",
            "Epoch 3 --> loss = 2.3032508056640624\n",
            "Epoch 3 --> model accuracy = 10.09000015258789\n",
            "Epoch 4 --> loss = 2.3030198240915936\n",
            "Epoch 4 --> model accuracy = 11.350000381469727\n",
            "Epoch 5 --> loss = 2.3030609155019124\n",
            "Epoch 5 --> model accuracy = 10.09000015258789\n",
            "Epoch 6 --> loss = 2.3030564697265623\n",
            "Epoch 6 --> model accuracy = 11.350000381469727\n",
            "Epoch 7 --> loss = 2.3029387963612873\n",
            "Epoch 7 --> model accuracy = 11.350000381469727\n",
            "Epoch 8 --> loss = 2.302702960840861\n",
            "Epoch 8 --> model accuracy = 11.350000381469727\n",
            "Epoch 9 --> loss = 2.3030445901234944\n",
            "Epoch 9 --> model accuracy = 11.350000381469727\n",
            "Epoch 10 --> loss = 2.3026863758087157\n",
            "Epoch 10 --> model accuracy = 11.350000381469727\n",
            "Epoch 11 --> loss = 2.302600602086385\n",
            "Epoch 11 --> model accuracy = 11.350000381469727\n",
            "Epoch 12 --> loss = 2.302832009887695\n",
            "Epoch 12 --> model accuracy = 11.350000381469727\n",
            "Epoch 13 --> loss = 2.302681539662679\n",
            "Epoch 13 --> model accuracy = 11.350000381469727\n"
          ]
        }
      ]
    },
    {
      "cell_type": "markdown",
      "source": [
        "\"Regrettably, I was unable to enhance the accuracy, which appears to be plateaued at this value of 11.35.\""
      ],
      "metadata": {
        "id": "mOCLZQjLlFh9"
      }
    }
  ]
}